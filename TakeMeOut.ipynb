{
  "nbformat": 4,
  "nbformat_minor": 0,
  "metadata": {
    "colab": {
      "name": "TakeMeOut",
      "provenance": [],
      "collapsed_sections": [],
      "authorship_tag": "ABX9TyPM2TcYcRrM/UYIQl1DnCtc",
      "include_colab_link": true
    },
    "kernelspec": {
      "name": "python3",
      "display_name": "Python 3"
    }
  },
  "cells": [
    {
      "cell_type": "markdown",
      "metadata": {
        "id": "view-in-github",
        "colab_type": "text"
      },
      "source": [
        "<a href=\"https://colab.research.google.com/github/nad-if/DSCDataScience/blob/main/TakeMeOut.ipynb\" target=\"_parent\"><img src=\"https://colab.research.google.com/assets/colab-badge.svg\" alt=\"Open In Colab\"/></a>"
      ]
    },
    {
      "cell_type": "code",
      "metadata": {
        "id": "411Qi7rIiKvk"
      },
      "source": [
        ""
      ],
      "execution_count": null,
      "outputs": []
    },
    {
      "cell_type": "markdown",
      "metadata": {
        "id": "kiORN0vakSJL"
      },
      "source": [
        "# Tugas Event #2 - Solving Real-World Problems with Data Science\n",
        "\n",
        "- Nama           : Hieronimus Jevon Valerian\n",
        "- NIM            : 10819017\n",
        "- Universitas    : Institut Teknologi Bandung\n",
        "- Tanggal Mulai  : 07 November 2020\n",
        "- Sumber Dataset : https://www.kaggle.com/c/titanic/data"
      ]
    }
  ]
}