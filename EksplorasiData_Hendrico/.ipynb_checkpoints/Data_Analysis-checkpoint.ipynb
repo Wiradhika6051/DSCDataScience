{
 "cells": [
  {
   "cell_type": "markdown",
   "metadata": {},
   "source": [
    "# Tugas\n",
    "\n",
    "Nama : Hendrico Vernando Bolang\n",
    "\n",
    "Universitas : Kyoto Computer Gakuin\n",
    "\n",
    "Tanggal mulai pengerjaan tugas : 8 November 2020"
   ]
  },
  {
   "cell_type": "code",
   "execution_count": null,
   "metadata": {},
   "outputs": [],
   "source": []
  }
 ],
 "metadata": {
  "kernelspec": {
   "display_name": "Python 3",
   "language": "python",
   "name": "python3"
  },
  "language_info": {
   "codemirror_mode": {
    "name": "ipython",
    "version": 3
   },
   "file_extension": ".py",
   "mimetype": "text/x-python",
   "name": "python",
   "nbconvert_exporter": "python",
   "pygments_lexer": "ipython3",
   "version": "3.7.3"
  }
 },
 "nbformat": 4,
 "nbformat_minor": 2
}
