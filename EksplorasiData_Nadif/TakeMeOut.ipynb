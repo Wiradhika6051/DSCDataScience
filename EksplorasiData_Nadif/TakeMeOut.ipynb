{
  "nbformat": 4,
  "nbformat_minor": 0,
  "metadata": {
    "colab": {
      "name": "TakeMeOut",
      "provenance": [],
      "collapsed_sections": [],
      "toc_visible": true,
      "authorship_tag": "ABX9TyPVko664rizN0ks0uqylB+K",
      "include_colab_link": true
    },
    "kernelspec": {
      "name": "python3",
      "display_name": "Python 3"
    }
  },
  "cells": [
    {
      "cell_type": "markdown",
      "metadata": {
        "id": "view-in-github",
        "colab_type": "text"
      },
      "source": [
        "<a href=\"https://colab.research.google.com/github/nad-if/DSCDataScience/blob/main/EksplorasiData_Nadif/TakeMeOut.ipynb\" target=\"_parent\"><img src=\"https://colab.research.google.com/assets/colab-badge.svg\" alt=\"Open In Colab\"/></a>"
      ]
    },
    {
      "cell_type": "markdown",
      "metadata": {
        "id": "kiORN0vakSJL"
      },
      "source": [
        "# Tugas Event #2 - Solving Real-World Problems with Data Science\n",
        "\n",
        "- Nama           : Nadif Aulia Putra\n",
        "- NIM            : 16520318\n",
        "- Universitas    : Institut Teknologi Bandung\n",
        "- Tanggal Mulai  : 15 November 2020\n",
        "- Sumber Dataset : takemeout.csv\n",
        "\n",
        "\n",
        "\n",
        "1. Data Preparation & Observation\n",
        "Pada analisis kali ini, saya menggunakan dataset take me out. "
      ]
    },
    {
      "cell_type": "markdown",
      "metadata": {
        "id": "ww4DZ3Zcn04P"
      },
      "source": [
        "## 1. Data Preparation & Observation"
      ]
    },
    {
      "cell_type": "markdown",
      "metadata": {
        "id": "1NyqULo_oJsc"
      },
      "source": [
        "## 2. Data Visualization"
      ]
    },
    {
      "cell_type": "markdown",
      "metadata": {
        "id": "_YVec3kOkSJ3"
      },
      "source": [
        "## 3. Data Preprocessing"
      ]
    },
    {
      "cell_type": "markdown",
      "metadata": {
        "id": "_mKbbi3LrEkW"
      },
      "source": [
        "## 4. Model Development"
      ]
    },
    {
      "cell_type": "markdown",
      "metadata": {
        "id": "LHC1LyM0rMXX"
      },
      "source": [
        "## 5. Presentation"
      ]
    }
  ]
}