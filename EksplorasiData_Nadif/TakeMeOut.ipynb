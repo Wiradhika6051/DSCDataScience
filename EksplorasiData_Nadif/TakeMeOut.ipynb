# Tugas Event #2 - Solving Real-World Problems with Data Science

- Nama           : Hieronimus Jevon Valerian
- NIM            : 10819017
- Universitas    : Institut Teknologi Bandung
- Tanggal Mulai  : 07 November 2020
- Sumber Dataset : https://www.kaggle.com/c/titanic/data
