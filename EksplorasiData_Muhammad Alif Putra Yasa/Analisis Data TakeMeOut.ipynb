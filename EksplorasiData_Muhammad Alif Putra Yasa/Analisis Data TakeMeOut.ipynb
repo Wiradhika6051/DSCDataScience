{
 "cells": [
  {
   "cell_type": "markdown",
   "metadata": {},
   "source": [
    "Nama : Muhammad Alif Putra Yasa"
   ]
  },
  {
   "cell_type": "markdown",
   "metadata": {},
   "source": [
    "NIM : 16520301"
   ]
  },
  {
   "cell_type": "markdown",
   "metadata": {},
   "source": [
    "Universitas : Institut Teknologi Bandung"
   ]
  },
  {
   "cell_type": "markdown",
   "metadata": {},
   "source": [
    "Data : TakeMeOut"
   ]
  },
  {
   "cell_type": "markdown",
   "metadata": {},
   "source": [
    "Pengerjaan : 6 November 2020"
   ]
  },
  {
   "cell_type": "markdown",
   "metadata": {},
   "source": [
    "# Data Cleaning"
   ]
  },
  {
   "cell_type": "markdown",
   "metadata": {},
   "source": [
    "Langkah pertama yang dilakukan adalah meng-*import* *library* dan membaca data dari file .csv"
   ]
  },
  {
   "cell_type": "code",
   "execution_count": 1,
   "metadata": {},
   "outputs": [],
   "source": [
    "# Import Library\n",
    "import pandas as pd\n",
    "import matplotlib.pyplot as plt\n",
    "import numpy as np\n",
    "import scipy.stats as spsts\n",
    "\n",
    "# Membaca Data\n",
    "data = pd.read_csv('takemeout.csv')"
   ]
  },
  {
   "cell_type": "markdown",
   "metadata": {},
   "source": [
    "Data yang tidak digunakan di analisis, seperti *Timestamp* dan Nama (Semua nama disensor), di hapus atau disingkat."
   ]
  },
  {
   "cell_type": "code",
   "execution_count": 2,
   "metadata": {},
   "outputs": [],
   "source": [
    "# Membenahi nama kolom\n",
    "del data['Timestamp']\n",
    "column_names = ['Nama', 'Gender', 'Quality Time', 'Physical Touch', 'Affirmation', 'Kado', 'Bantuan']\n",
    "data.columns = column_names\n",
    "\n",
    "# Menyingkat Nama\n",
    "for i in data['Nama']:\n",
    "    if len(i) > 2:\n",
    "        data['Nama'] = data['Nama'].replace( i, i[:1] + str(len(i) - 2) + '*')\n",
    "        \n",
    "# Memisahkan data cowok dan cewek\n",
    "cowok_data = data.loc[data['Gender'] == 'Cowok']\n",
    "cewek_data = data.loc[data['Gender'] == 'Cewek']"
   ]
  },
  {
   "cell_type": "markdown",
   "metadata": {},
   "source": [
    "# Data Analysis"
   ]
  },
  {
   "cell_type": "markdown",
   "metadata": {},
   "source": [
    "## Statistik Dasar"
   ]
  },
  {
   "cell_type": "code",
   "execution_count": 42,
   "metadata": {
    "scrolled": true
   },
   "outputs": [
    {
     "data": {
      "text/html": [
       "<div>\n",
       "<style scoped>\n",
       "    .dataframe tbody tr th:only-of-type {\n",
       "        vertical-align: middle;\n",
       "    }\n",
       "\n",
       "    .dataframe tbody tr th {\n",
       "        vertical-align: top;\n",
       "    }\n",
       "\n",
       "    .dataframe thead th {\n",
       "        text-align: right;\n",
       "    }\n",
       "</style>\n",
       "<table border=\"1\" class=\"dataframe\">\n",
       "  <thead>\n",
       "    <tr style=\"text-align: right;\">\n",
       "      <th></th>\n",
       "      <th>Mean</th>\n",
       "      <th>Median</th>\n",
       "      <th>Mode</th>\n",
       "      <th>Max</th>\n",
       "      <th>Min</th>\n",
       "    </tr>\n",
       "  </thead>\n",
       "  <tbody>\n",
       "    <tr>\n",
       "      <th>Quality Time</th>\n",
       "      <td>4.10</td>\n",
       "      <td>5.0</td>\n",
       "      <td>5</td>\n",
       "      <td>5</td>\n",
       "      <td>1</td>\n",
       "    </tr>\n",
       "    <tr>\n",
       "      <th>Physical Touch</th>\n",
       "      <td>3.17</td>\n",
       "      <td>3.0</td>\n",
       "      <td>3</td>\n",
       "      <td>5</td>\n",
       "      <td>1</td>\n",
       "    </tr>\n",
       "    <tr>\n",
       "      <th>Affirmation</th>\n",
       "      <td>3.72</td>\n",
       "      <td>4.0</td>\n",
       "      <td>4</td>\n",
       "      <td>5</td>\n",
       "      <td>1</td>\n",
       "    </tr>\n",
       "    <tr>\n",
       "      <th>Kado</th>\n",
       "      <td>2.73</td>\n",
       "      <td>3.0</td>\n",
       "      <td>3</td>\n",
       "      <td>5</td>\n",
       "      <td>1</td>\n",
       "    </tr>\n",
       "    <tr>\n",
       "      <th>Bantuan</th>\n",
       "      <td>3.75</td>\n",
       "      <td>4.0</td>\n",
       "      <td>4</td>\n",
       "      <td>5</td>\n",
       "      <td>1</td>\n",
       "    </tr>\n",
       "  </tbody>\n",
       "</table>\n",
       "</div>"
      ],
      "text/plain": [
       "                Mean  Median  Mode  Max  Min\n",
       "Quality Time    4.10     5.0     5    5    1\n",
       "Physical Touch  3.17     3.0     3    5    1\n",
       "Affirmation     3.72     4.0     4    5    1\n",
       "Kado            2.73     3.0     3    5    1\n",
       "Bantuan         3.75     4.0     4    5    1"
      ]
     },
     "execution_count": 42,
     "metadata": {},
     "output_type": "execute_result"
    }
   ],
   "source": [
    "sts_dasar = {\n",
    "    \"Mean\"   : [ round(np.mean(data[kolom]),2)   for kolom in column_names[2:] ],\n",
    "    \"Median\" : [ round(np.median(data[kolom]),2) for kolom in column_names[2:] ],\n",
    "    \"Mode\"   : [ int(spsts.mode(data[kolom])[0]) for kolom in column_names[2:] ],\n",
    "    \"Max\"    : [ np.max(data[kolom]) for kolom in column_names[2:] ],\n",
    "    \"Min\"    : [ np.min(data[kolom]) for kolom in column_names[2:] ]\n",
    "}\n",
    "\n",
    "tabel_sts       = pd.DataFrame(statistik_dasar)\n",
    "tabel_sts.index = [kolom for kolom in column_names[2:]]\n",
    "tabel_sts"
   ]
  },
  {
   "cell_type": "code",
   "execution_count": 4,
   "metadata": {},
   "outputs": [],
   "source": [
    "# Mengatur ukuran gambar\n",
    "plt.rcParams['figure.figsize'] = [18*1.6/2.54, 9/2.54]"
   ]
  },
  {
   "cell_type": "code",
   "execution_count": 5,
   "metadata": {
    "scrolled": false
   },
   "outputs": [
    {
     "data": {
      "image/png": "[encoded data removed]",
      "text/plain": [
       "<Figure size 816.378x255.118 with 2 Axes>"
      ]
     },
     "metadata": {
      "needs_background": "light"
     },
     "output_type": "display_data"
    }
   ],
   "source": [
    "fig, ax = plt.subplots(1,2)\n",
    "ax[0].hist(cowok_data['Quality Time'], \n",
    "           bins = np.arange(1,7)-0.5,\n",
    "           color = 'skyblue')\n",
    "ax[1].hist(cewek_data['Quality Time'], \n",
    "           bins = np.arange(1,7)-0.5,\n",
    "           color = 'pink')\n",
    "plt.show()"
   ]
  },
  {
   "cell_type": "code",
   "execution_count": 6,
   "metadata": {
    "scrolled": false
   },
   "outputs": [
    {
     "data": {
      "image/png": "[encoded data removed]",
      "text/plain": [
       "<Figure size 816.378x255.118 with 2 Axes>"
      ]
     },
     "metadata": {
      "needs_background": "light"
     },
     "output_type": "display_data"
    }
   ],
   "source": [
    "fig, ax = plt.subplots(1,2)\n",
    "ax[0].hist(cowok_data['Physical Touch'], \n",
    "           bins = np.arange(1,7)-0.5,\n",
    "           color = 'skyblue')\n",
    "ax[1].hist(cewek_data['Physical Touch'], \n",
    "           bins = np.arange(1,7)-0.5,\n",
    "           color = 'pink')\n",
    "plt.show()"
   ]
  },
  {
   "cell_type": "code",
   "execution_count": 7,
   "metadata": {},
   "outputs": [
    {
     "data": {
      "image/png": "[encoded data removed]",
      "text/plain": [
       "<Figure size 816.378x255.118 with 2 Axes>"
      ]
     },
     "metadata": {
      "needs_background": "light"
     },
     "output_type": "display_data"
    }
   ],
   "source": [
    "fig, ax = plt.subplots(1,2)\n",
    "ax[0].hist(cowok_data['Affirmation'], \n",
    "                    bins = np.arange(1,7)-0.5,\n",
    "                    color = 'skyblue')\n",
    "ax[1].hist(cewek_data['Affirmation'], \n",
    "                    bins = np.arange(1,7)-0.5,\n",
    "                    color = 'pink')\n",
    "plt.show()"
   ]
  },
  {
   "cell_type": "code",
   "execution_count": 8,
   "metadata": {},
   "outputs": [
    {
     "data": {
      "image/png": "[encoded data removed]",
      "text/plain": [
       "<Figure size 816.378x255.118 with 2 Axes>"
      ]
     },
     "metadata": {
      "needs_background": "light"
     },
     "output_type": "display_data"
    }
   ],
   "source": [
    "fig, ax = plt.subplots(1,2)\n",
    "ax[0].hist(cowok_data['Kado'], \n",
    "           bins = np.arange(1,7)-0.5,\n",
    "           color = 'skyblue')\n",
    "ax[1].hist(cewek_data['Kado'], \n",
    "           bins = np.arange(1,7)-0.5,\n",
    "           color = 'pink')\n",
    "plt.show()"
   ]
  },
  {
   "cell_type": "code",
   "execution_count": 9,
   "metadata": {},
   "outputs": [
    {
     "data": {
      "image/png": "[encoded data removed]",
      "text/plain": [
       "<Figure size 816.378x255.118 with 2 Axes>"
      ]
     },
     "metadata": {
      "needs_background": "light"
     },
     "output_type": "display_data"
    }
   ],
   "source": [
    "fig, ax = plt.subplots(1,2)\n",
    "ax[0].hist(cowok_data['Bantuan'], \n",
    "           bins = np.arange(1,7)-0.5,\n",
    "           color = 'skyblue')\n",
    "ax[1].hist(cewek_data['Quality Time'], \n",
    "           bins = np.arange(1,7)-0.5,\n",
    "           color = 'pink')\n",
    "plt.show()"
   ]
  },
  {
   "cell_type": "code",
   "execution_count": null,
   "metadata": {},
   "outputs": [],
   "source": []
  }
 ],
 "metadata": {
  "authors": [
   {
    "institution": "Institut Teknologi Baandung",
    "name": "Muhammad Alif Putra Yasa"
   }
  ],
  "celltoolbar": "Edit Metadata",
  "kernelspec": {
   "display_name": "Python 3",
   "language": "python",
   "name": "python3"
  },
  "language_info": {
   "codemirror_mode": {
    "name": "ipython",
    "version": 3
   },
   "file_extension": ".py",
   "mimetype": "text/x-python",
   "name": "python",
   "nbconvert_exporter": "python",
   "pygments_lexer": "ipython3",
   "version": "3.8.3"
  }
 },
 "nbformat": 4,
 "nbformat_minor": 4
}
