{
 "cells": [
  {
   "cell_type": "markdown",
   "metadata": {},
   "source": [
    "# Analisis Data TakeMeOut"
   ]
  },
  {
   "cell_type": "markdown",
   "metadata": {},
   "source": [
    "<pre>\n",
    "Nama        : Muhammad Alif Putra Yasa\n",
    "NIM         : 16520301\n",
    "Universitas : Institut Teknologi Bandung\n",
    "Data        : TakeMeOut\n",
    "Pengerjaan  : 6 November 2020\n",
    "</pre>"
   ]
  },
  {
   "cell_type": "markdown",
   "metadata": {},
   "source": [
    "## Data Cleaning"
   ]
  },
  {
   "cell_type": "markdown",
   "metadata": {},
   "source": [
    "Langkah pertama yang dilakukan adalah meng-*import* *library* dan membaca data dari file .csv"
   ]
  },
  {
   "cell_type": "code",
   "execution_count": 1,
   "metadata": {},
   "outputs": [],
   "source": [
    "# Import Library\n",
    "import pandas as pd\n",
    "import matplotlib.pyplot as plt\n",
    "import numpy as np\n",
    "import scipy.stats as spsts\n",
    "import collections as col\n",
    "\n",
    "# Membaca Data\n",
    "data = pd.read_csv('takemeout.csv')"
   ]
  },
  {
   "cell_type": "code",
   "execution_count": 2,
   "metadata": {},
   "outputs": [
    {
     "data": {
      "text/html": [
       "<div>\n",
       "<style scoped>\n",
       "    .dataframe tbody tr th:only-of-type {\n",
       "        vertical-align: middle;\n",
       "    }\n",
       "\n",
       "    .dataframe tbody tr th {\n",
       "        vertical-align: top;\n",
       "    }\n",
       "\n",
       "    .dataframe thead th {\n",
       "        text-align: right;\n",
       "    }\n",
       "</style>\n",
       "<table border=\"1\" class=\"dataframe\">\n",
       "  <thead>\n",
       "    <tr style=\"text-align: right;\">\n",
       "      <th></th>\n",
       "      <th>Timestamp</th>\n",
       "      <th>Siapa nama kamu?</th>\n",
       "      <th>Cewek atau cowok nih?</th>\n",
       "      <th>Seberapa penting quality time bareng calon pacar untuk kamu?</th>\n",
       "      <th>Seberapa penting physical touch sama calon pacar untuk kamu?</th>\n",
       "      <th>Seberapa penting word of affirmation dari calon pacar untuk kamu?</th>\n",
       "      <th>Seberapa penting dapet kado dari calon pacar untuk kamu?</th>\n",
       "      <th>Seberapa penting bantuan dari calon pacar untuk kamu?</th>\n",
       "    </tr>\n",
       "  </thead>\n",
       "  <tbody>\n",
       "    <tr>\n",
       "      <th>0</th>\n",
       "      <td>2020/10/31 3:39:25 PM GMT+7</td>\n",
       "      <td>A**************</td>\n",
       "      <td>Cowok</td>\n",
       "      <td>5</td>\n",
       "      <td>5</td>\n",
       "      <td>4</td>\n",
       "      <td>1</td>\n",
       "      <td>3</td>\n",
       "    </tr>\n",
       "    <tr>\n",
       "      <th>1</th>\n",
       "      <td>2020/10/31 3:39:36 PM GMT+7</td>\n",
       "      <td>L****</td>\n",
       "      <td>Cewek</td>\n",
       "      <td>5</td>\n",
       "      <td>5</td>\n",
       "      <td>3</td>\n",
       "      <td>2</td>\n",
       "      <td>2</td>\n",
       "    </tr>\n",
       "    <tr>\n",
       "      <th>2</th>\n",
       "      <td>2020/10/31 3:39:38 PM GMT+7</td>\n",
       "      <td>Y***********</td>\n",
       "      <td>Cowok</td>\n",
       "      <td>4</td>\n",
       "      <td>3</td>\n",
       "      <td>4</td>\n",
       "      <td>4</td>\n",
       "      <td>4</td>\n",
       "    </tr>\n",
       "    <tr>\n",
       "      <th>3</th>\n",
       "      <td>2020/10/31 3:39:42 PM GMT+7</td>\n",
       "      <td>a***</td>\n",
       "      <td>Cowok</td>\n",
       "      <td>5</td>\n",
       "      <td>5</td>\n",
       "      <td>5</td>\n",
       "      <td>2</td>\n",
       "      <td>3</td>\n",
       "    </tr>\n",
       "    <tr>\n",
       "      <th>4</th>\n",
       "      <td>2020/10/31 3:39:43 PM GMT+7</td>\n",
       "      <td>B****</td>\n",
       "      <td>Cowok</td>\n",
       "      <td>5</td>\n",
       "      <td>5</td>\n",
       "      <td>5</td>\n",
       "      <td>2</td>\n",
       "      <td>4</td>\n",
       "    </tr>\n",
       "  </tbody>\n",
       "</table>\n",
       "</div>"
      ],
      "text/plain": [
       "                     Timestamp Siapa nama kamu? Cewek atau cowok nih?  \\\n",
       "0  2020/10/31 3:39:25 PM GMT+7  A**************                 Cowok   \n",
       "1  2020/10/31 3:39:36 PM GMT+7            L****                 Cewek   \n",
       "2  2020/10/31 3:39:38 PM GMT+7     Y***********                 Cowok   \n",
       "3  2020/10/31 3:39:42 PM GMT+7             a***                 Cowok   \n",
       "4  2020/10/31 3:39:43 PM GMT+7            B****                 Cowok   \n",
       "\n",
       "   Seberapa penting quality time bareng calon pacar untuk kamu?  \\\n",
       "0                                                  5              \n",
       "1                                                  5              \n",
       "2                                                  4              \n",
       "3                                                  5              \n",
       "4                                                  5              \n",
       "\n",
       "   Seberapa penting physical touch sama calon pacar untuk kamu?  \\\n",
       "0                                                  5              \n",
       "1                                                  5              \n",
       "2                                                  3              \n",
       "3                                                  5              \n",
       "4                                                  5              \n",
       "\n",
       "   Seberapa penting word of affirmation dari calon pacar untuk kamu?  \\\n",
       "0                                                  4                   \n",
       "1                                                  3                   \n",
       "2                                                  4                   \n",
       "3                                                  5                   \n",
       "4                                                  5                   \n",
       "\n",
       "   Seberapa penting dapet kado dari calon pacar untuk kamu?  \\\n",
       "0                                                  1          \n",
       "1                                                  2          \n",
       "2                                                  4          \n",
       "3                                                  2          \n",
       "4                                                  2          \n",
       "\n",
       "   Seberapa penting bantuan dari calon pacar untuk kamu?  \n",
       "0                                                  3      \n",
       "1                                                  2      \n",
       "2                                                  4      \n",
       "3                                                  3      \n",
       "4                                                  4      "
      ]
     },
     "execution_count": 2,
     "metadata": {},
     "output_type": "execute_result"
    }
   ],
   "source": [
    "# Melihat data\n",
    "data.head()"
   ]
  },
  {
   "cell_type": "markdown",
   "metadata": {},
   "source": [
    "Dapat dilihat berdasarkan contoh data diatas bahwa data berbentuk kualitatif (Nama, Gender, dan Tingkat kepentingan). Tingkat kepentingan termasuk data kualitatif karena mengukur kategori Tidak Penting -- Penting Sekali. Oleh karena itu, tingkat kepentingan dikategorikan sebagai data kualitatif."
   ]
  },
  {
   "cell_type": "markdown",
   "metadata": {},
   "source": [
    "Data yang tidak digunakan di analisis, seperti *Timestamp* dan Nama (Semua nama disensor), di hapus atau disingkat."
   ]
  },
  {
   "cell_type": "code",
   "execution_count": 3,
   "metadata": {},
   "outputs": [],
   "source": [
    "# Membenahi nama kolom\n",
    "del data['Timestamp']\n",
    "column_names = ['Nama', 'Gender', 'Quality Time', 'Physical Touch', 'Affirmation', 'Kado', 'Bantuan']\n",
    "data.columns = column_names\n",
    "\n",
    "# Menyingkat Nama\n",
    "for i in data['Nama']:\n",
    "    if len(i) > 2:\n",
    "        data['Nama'] = data['Nama'].replace( i, i[:1] + str(len(i) - 2) + '*')\n",
    "        \n",
    "# Memisahkan data cowok dan cewek\n",
    "cowok_data = data.loc[data['Gender'] == 'Cowok']\n",
    "cewek_data = data.loc[data['Gender'] == 'Cewek']"
   ]
  },
  {
   "cell_type": "code",
   "execution_count": 4,
   "metadata": {},
   "outputs": [
    {
     "data": {
      "text/html": [
       "<div>\n",
       "<style scoped>\n",
       "    .dataframe tbody tr th:only-of-type {\n",
       "        vertical-align: middle;\n",
       "    }\n",
       "\n",
       "    .dataframe tbody tr th {\n",
       "        vertical-align: top;\n",
       "    }\n",
       "\n",
       "    .dataframe thead th {\n",
       "        text-align: right;\n",
       "    }\n",
       "</style>\n",
       "<table border=\"1\" class=\"dataframe\">\n",
       "  <thead>\n",
       "    <tr style=\"text-align: right;\">\n",
       "      <th></th>\n",
       "      <th>Nama</th>\n",
       "      <th>Gender</th>\n",
       "      <th>Quality Time</th>\n",
       "      <th>Physical Touch</th>\n",
       "      <th>Affirmation</th>\n",
       "      <th>Kado</th>\n",
       "      <th>Bantuan</th>\n",
       "    </tr>\n",
       "  </thead>\n",
       "  <tbody>\n",
       "    <tr>\n",
       "      <th>0</th>\n",
       "      <td>A13*</td>\n",
       "      <td>Cowok</td>\n",
       "      <td>5</td>\n",
       "      <td>5</td>\n",
       "      <td>4</td>\n",
       "      <td>1</td>\n",
       "      <td>3</td>\n",
       "    </tr>\n",
       "    <tr>\n",
       "      <th>1</th>\n",
       "      <td>L3*</td>\n",
       "      <td>Cewek</td>\n",
       "      <td>5</td>\n",
       "      <td>5</td>\n",
       "      <td>3</td>\n",
       "      <td>2</td>\n",
       "      <td>2</td>\n",
       "    </tr>\n",
       "    <tr>\n",
       "      <th>2</th>\n",
       "      <td>Y10*</td>\n",
       "      <td>Cowok</td>\n",
       "      <td>4</td>\n",
       "      <td>3</td>\n",
       "      <td>4</td>\n",
       "      <td>4</td>\n",
       "      <td>4</td>\n",
       "    </tr>\n",
       "    <tr>\n",
       "      <th>3</th>\n",
       "      <td>a1*</td>\n",
       "      <td>Cowok</td>\n",
       "      <td>5</td>\n",
       "      <td>5</td>\n",
       "      <td>5</td>\n",
       "      <td>2</td>\n",
       "      <td>3</td>\n",
       "    </tr>\n",
       "    <tr>\n",
       "      <th>4</th>\n",
       "      <td>B3*</td>\n",
       "      <td>Cowok</td>\n",
       "      <td>5</td>\n",
       "      <td>5</td>\n",
       "      <td>5</td>\n",
       "      <td>2</td>\n",
       "      <td>4</td>\n",
       "    </tr>\n",
       "  </tbody>\n",
       "</table>\n",
       "</div>"
      ],
      "text/plain": [
       "   Nama Gender  Quality Time  Physical Touch  Affirmation  Kado  Bantuan\n",
       "0  A13*  Cowok             5               5            4     1        3\n",
       "1   L3*  Cewek             5               5            3     2        2\n",
       "2  Y10*  Cowok             4               3            4     4        4\n",
       "3   a1*  Cowok             5               5            5     2        3\n",
       "4   B3*  Cowok             5               5            5     2        4"
      ]
     },
     "execution_count": 4,
     "metadata": {},
     "output_type": "execute_result"
    }
   ],
   "source": [
    "data.head()"
   ]
  },
  {
   "cell_type": "markdown",
   "metadata": {},
   "source": [
    "## Data Analysis"
   ]
  },
  {
   "cell_type": "markdown",
   "metadata": {},
   "source": [
    "### Statistik Dasar"
   ]
  },
  {
   "cell_type": "code",
   "execution_count": 5,
   "metadata": {
    "scrolled": true
   },
   "outputs": [
    {
     "data": {
      "text/html": [
       "<div>\n",
       "<style scoped>\n",
       "    .dataframe tbody tr th:only-of-type {\n",
       "        vertical-align: middle;\n",
       "    }\n",
       "\n",
       "    .dataframe tbody tr th {\n",
       "        vertical-align: top;\n",
       "    }\n",
       "\n",
       "    .dataframe thead th {\n",
       "        text-align: right;\n",
       "    }\n",
       "</style>\n",
       "<table border=\"1\" class=\"dataframe\">\n",
       "  <thead>\n",
       "    <tr style=\"text-align: right;\">\n",
       "      <th></th>\n",
       "      <th>Max</th>\n",
       "      <th>Min</th>\n",
       "      <th>Mode</th>\n",
       "    </tr>\n",
       "  </thead>\n",
       "  <tbody>\n",
       "    <tr>\n",
       "      <th>Quality Time</th>\n",
       "      <td>5</td>\n",
       "      <td>1</td>\n",
       "      <td>5</td>\n",
       "    </tr>\n",
       "    <tr>\n",
       "      <th>Physical Touch</th>\n",
       "      <td>5</td>\n",
       "      <td>1</td>\n",
       "      <td>3</td>\n",
       "    </tr>\n",
       "    <tr>\n",
       "      <th>Affirmation</th>\n",
       "      <td>5</td>\n",
       "      <td>1</td>\n",
       "      <td>4</td>\n",
       "    </tr>\n",
       "    <tr>\n",
       "      <th>Kado</th>\n",
       "      <td>5</td>\n",
       "      <td>1</td>\n",
       "      <td>3</td>\n",
       "    </tr>\n",
       "    <tr>\n",
       "      <th>Bantuan</th>\n",
       "      <td>5</td>\n",
       "      <td>1</td>\n",
       "      <td>4</td>\n",
       "    </tr>\n",
       "  </tbody>\n",
       "</table>\n",
       "</div>"
      ],
      "text/plain": [
       "                Max  Min  Mode\n",
       "Quality Time      5    1     5\n",
       "Physical Touch    5    1     3\n",
       "Affirmation       5    1     4\n",
       "Kado              5    1     3\n",
       "Bantuan           5    1     4"
      ]
     },
     "execution_count": 5,
     "metadata": {},
     "output_type": "execute_result"
    }
   ],
   "source": [
    "# Statistik dasar data keseluruhan\n",
    "sts_dasar = {\n",
    "    \"Max\"    : [ np.max(data[kolom]) for kolom in column_names[2:] ],\n",
    "    \"Min\"    : [ np.min(data[kolom]) for kolom in column_names[2:] ],\n",
    "    \"Mode\"   : [ int(spsts.mode(data[kolom])[0]) for kolom in column_names[2:] ]\n",
    "}\n",
    "\n",
    "tabel_sts       = pd.DataFrame(sts_dasar)\n",
    "tabel_sts.style.set_caption(\"Hello World\")\n",
    "tabel_sts.index = column_names[2:]\n",
    "tabel_sts"
   ]
  },
  {
   "cell_type": "code",
   "execution_count": 6,
   "metadata": {},
   "outputs": [
    {
     "data": {
      "text/html": [
       "<div>\n",
       "<style scoped>\n",
       "    .dataframe tbody tr th:only-of-type {\n",
       "        vertical-align: middle;\n",
       "    }\n",
       "\n",
       "    .dataframe tbody tr th {\n",
       "        vertical-align: top;\n",
       "    }\n",
       "\n",
       "    .dataframe thead th {\n",
       "        text-align: right;\n",
       "    }\n",
       "</style>\n",
       "<table border=\"1\" class=\"dataframe\">\n",
       "  <thead>\n",
       "    <tr style=\"text-align: right;\">\n",
       "      <th></th>\n",
       "      <th>Max</th>\n",
       "      <th>Min</th>\n",
       "      <th>Mode</th>\n",
       "    </tr>\n",
       "  </thead>\n",
       "  <tbody>\n",
       "    <tr>\n",
       "      <th>Quality Time</th>\n",
       "      <td>5</td>\n",
       "      <td>1</td>\n",
       "      <td>5</td>\n",
       "    </tr>\n",
       "    <tr>\n",
       "      <th>Physical Touch</th>\n",
       "      <td>5</td>\n",
       "      <td>1</td>\n",
       "      <td>3</td>\n",
       "    </tr>\n",
       "    <tr>\n",
       "      <th>Affirmation</th>\n",
       "      <td>5</td>\n",
       "      <td>1</td>\n",
       "      <td>4</td>\n",
       "    </tr>\n",
       "    <tr>\n",
       "      <th>Kado</th>\n",
       "      <td>5</td>\n",
       "      <td>1</td>\n",
       "      <td>3</td>\n",
       "    </tr>\n",
       "    <tr>\n",
       "      <th>Bantuan</th>\n",
       "      <td>5</td>\n",
       "      <td>1</td>\n",
       "      <td>4</td>\n",
       "    </tr>\n",
       "  </tbody>\n",
       "</table>\n",
       "</div>"
      ],
      "text/plain": [
       "                Max  Min  Mode\n",
       "Quality Time      5    1     5\n",
       "Physical Touch    5    1     3\n",
       "Affirmation       5    1     4\n",
       "Kado              5    1     3\n",
       "Bantuan           5    1     4"
      ]
     },
     "execution_count": 6,
     "metadata": {},
     "output_type": "execute_result"
    }
   ],
   "source": [
    "# Statistik dasar data cowok\n",
    "cowok_sts = {\n",
    "    \"Max\"    : [ np.max(cowok_data[kolom]) for kolom in column_names[2:] ],\n",
    "    \"Min\"    : [ np.min(cowok_data[kolom]) for kolom in column_names[2:] ],\n",
    "    \"Mode\"   : [ int(spsts.mode(cowok_data[kolom])[0]) for kolom in column_names[2:] ]\n",
    "}\n",
    "\n",
    "tabel_sts_cowok = pd.DataFrame(cowok_sts)\n",
    "tabel_sts_cowok.index = column_names[2:]\n",
    "tabel_sts_cowok"
   ]
  },
  {
   "cell_type": "code",
   "execution_count": 7,
   "metadata": {
    "scrolled": true
   },
   "outputs": [
    {
     "data": {
      "text/html": [
       "<div>\n",
       "<style scoped>\n",
       "    .dataframe tbody tr th:only-of-type {\n",
       "        vertical-align: middle;\n",
       "    }\n",
       "\n",
       "    .dataframe tbody tr th {\n",
       "        vertical-align: top;\n",
       "    }\n",
       "\n",
       "    .dataframe thead th {\n",
       "        text-align: right;\n",
       "    }\n",
       "</style>\n",
       "<table border=\"1\" class=\"dataframe\">\n",
       "  <thead>\n",
       "    <tr style=\"text-align: right;\">\n",
       "      <th></th>\n",
       "      <th>Max</th>\n",
       "      <th>Min</th>\n",
       "      <th>Mode</th>\n",
       "    </tr>\n",
       "  </thead>\n",
       "  <tbody>\n",
       "    <tr>\n",
       "      <th>Quality Time</th>\n",
       "      <td>5</td>\n",
       "      <td>1</td>\n",
       "      <td>4</td>\n",
       "    </tr>\n",
       "    <tr>\n",
       "      <th>Physical Touch</th>\n",
       "      <td>5</td>\n",
       "      <td>1</td>\n",
       "      <td>1</td>\n",
       "    </tr>\n",
       "    <tr>\n",
       "      <th>Affirmation</th>\n",
       "      <td>5</td>\n",
       "      <td>1</td>\n",
       "      <td>3</td>\n",
       "    </tr>\n",
       "    <tr>\n",
       "      <th>Kado</th>\n",
       "      <td>5</td>\n",
       "      <td>1</td>\n",
       "      <td>1</td>\n",
       "    </tr>\n",
       "    <tr>\n",
       "      <th>Bantuan</th>\n",
       "      <td>5</td>\n",
       "      <td>1</td>\n",
       "      <td>5</td>\n",
       "    </tr>\n",
       "  </tbody>\n",
       "</table>\n",
       "</div>"
      ],
      "text/plain": [
       "                Max  Min  Mode\n",
       "Quality Time      5    1     4\n",
       "Physical Touch    5    1     1\n",
       "Affirmation       5    1     3\n",
       "Kado              5    1     1\n",
       "Bantuan           5    1     5"
      ]
     },
     "execution_count": 7,
     "metadata": {},
     "output_type": "execute_result"
    }
   ],
   "source": [
    "# Statistik dasar data cewek\n",
    "cewek_sts = {\n",
    "    \"Max\"    : [ np.max(cewek_data[kolom]) for kolom in column_names[2:] ],\n",
    "    \"Min\"    : [ np.min(cewek_data[kolom]) for kolom in column_names[2:] ],\n",
    "    \"Mode\"   : [ int(spsts.mode(cewek_data[kolom])[0]) for kolom in column_names[2:] ]\n",
    "}\n",
    "\n",
    "tabel_sts_cewek = pd.DataFrame(cewek_sts)\n",
    "tabel_sts_cewek.index = column_names[2:]\n",
    "tabel_sts_cewek"
   ]
  },
  {
   "cell_type": "markdown",
   "metadata": {},
   "source": [
    "## Visualisasi Data"
   ]
  },
  {
   "cell_type": "code",
   "execution_count": 8,
   "metadata": {},
   "outputs": [
    {
     "data": {
      "image/png": "[encoded data removed]",
      "text/plain": [
       "<Figure size 907.087x1700.79 with 15 Axes>"
      ]
     },
     "metadata": {
      "needs_background": "light"
     },
     "output_type": "display_data"
    }
   ],
   "source": [
    "# Mengatur ukuran\n",
    "plt.rcParams['figure.figsize'] = [2 *10 *1.6 /2.54, 6 *10 /2.54]\n",
    "\n",
    "#   Untuk membuat judul umum histogram dan pie chart, \n",
    "# langkah awal yang dilakukan adalah membuat 5 Grafik\n",
    "\n",
    "fig, main_axes = plt.subplots(nrows=5, ncols=1, sharey=True)\n",
    "plt.subplots_adjust(hspace=0.3)\n",
    "\n",
    "for row, main_ax in enumerate(main_axes, start=1):\n",
    "    # Memberi nama grafik\n",
    "    main_ax.set_title(column_names[2:][row-1], fontsize=15)\n",
    "    # Membuat grafik tidak terlihat\n",
    "    main_ax.axis('off')\n",
    "\n",
    "#   Setelah membuat 5 grafik yang tidak terlihat tetapi judulnya\n",
    "# tetap terlihat, langkah selanjutnya adalah mengisiknya dengan\n",
    "# histogram dan pie chart\n",
    "    \n",
    "# Membuat 10 plot\n",
    "for i in range(10):\n",
    "    # Membuat subplot dengan 5 row dan\n",
    "    # 2 kolom. i + 1 adalah index plot\n",
    "    sub_ax = fig.add_subplot(5,2,i+1)\n",
    "    \n",
    "    # Untuk plot di kiri, histogram\n",
    "    if i % 2 == 0:\n",
    "        sub_ax.hist(data[column_names[2:][i//2]],\n",
    "                bins = np.arange(1,7)-0.5,\n",
    "                color = 'skyblue')\n",
    "        plt.setp(sub_ax,\n",
    "                 xlabel='Tingkat Kesukaan',\n",
    "                 ylabel = 'Frekuensi')\n",
    "    \n",
    "    # Untuk plot di kanan, pie chart\n",
    "    else:\n",
    "        sub_ax.pie(list(col.Counter(data[column_names[2:][i//2]]).values()),\n",
    "               labels=list(col.Counter(data[column_names[2:][i//2]]).keys()),\n",
    "               autopct='%1.1f%%')\n",
    "\n",
    "# Supaya ukurannya pas dengan aturan ukuran\n",
    "plt.tight_layout()\n",
    "\n",
    "plt.show()"
   ]
  },
  {
   "cell_type": "code",
   "execution_count": null,
   "metadata": {},
   "outputs": [],
   "source": []
  }
 ],
 "metadata": {
  "authors": [
   {
    "institution": "Institut Teknologi Baandung",
    "name": "Muhammad Alif Putra Yasa"
   }
  ],
  "celltoolbar": "Edit Metadata",
  "kernelspec": {
   "display_name": "Python 3",
   "language": "python",
   "name": "python3"
  },
  "language_info": {
   "codemirror_mode": {
    "name": "ipython",
    "version": 3
   },
   "file_extension": ".py",
   "mimetype": "text/x-python",
   "name": "python",
   "nbconvert_exporter": "python",
   "pygments_lexer": "ipython3",
   "version": "3.8.3"
  }
 },
 "nbformat": 4,
 "nbformat_minor": 4
}
