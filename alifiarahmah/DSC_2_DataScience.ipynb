{
  "nbformat": 4,
  "nbformat_minor": 0,
  "metadata": {
    "colab": {
      "name": "DSC_2_DataScience.ipynb",
      "provenance": [],
      "toc_visible": true,
      "authorship_tag": "ABX9TyOgCFUU9HaaRDQmdrijRbpG",
      "include_colab_link": true
    },
    "kernelspec": {
      "name": "python3",
      "display_name": "Python 3"
    }
  },
  "cells": [
    {
      "cell_type": "markdown",
      "metadata": {
        "id": "view-in-github",
        "colab_type": "text"
      },
      "source": [
        "<a href=\"https://colab.research.google.com/github/alifiarahmah/DSCDataScience/blob/main/alifiarahmah/DSC_2_DataScience.ipynb\" target=\"_parent\"><img src=\"https://colab.research.google.com/assets/colab-badge.svg\" alt=\"Open In Colab\"/></a>"
      ]
    },
    {
      "cell_type": "markdown",
      "metadata": {
        "id": "_2yQP0aaupex"
      },
      "source": [
        "# Tugas Event #2 DSC - Solving Real-World Problems with Data Science\n",
        "Nama: Alifia Rahmah<br>\n",
        "NIM: 16520309"
      ]
    },
    {
      "cell_type": "markdown",
      "metadata": {
        "id": "RmdCvt8QvcQP"
      },
      "source": [
        "### Import module Pandas, NumPy, dan PyPlot"
      ]
    },
    {
      "cell_type": "code",
      "metadata": {
        "id": "KGCZww2remjr"
      },
      "source": [
        "import pandas as pd\n",
        "import numpy as np\n",
        "import matplotlib.pyplot as plt"
      ],
      "execution_count": null,
      "outputs": []
    },
    {
      "cell_type": "markdown",
      "metadata": {
        "id": "sipwt4tltQlN"
      },
      "source": [
        "## Data Preparation"
      ]
    },
    {
      "cell_type": "markdown",
      "metadata": {
        "id": "Y-ohGvHWu5PV"
      },
      "source": [
        "### Data Collecting\n",
        "Untuk tugas ini, saya mengambil dataset dari Kaggle, dengan judul \"Movies on Netflix, Prime Video, Hulu and Disney+\" oleh Ruchi Bhatia.<br>\n",
        "[Sumber](https://www.kaggle.com/ruchi798/movies-on-netflix-prime-video-hulu-and-disney)"
      ]
    },
    {
      "cell_type": "code",
      "metadata": {
        "id": "yWnYbAI8ep7B"
      },
      "source": [
        "mov = pd.read_csv(\"movies.csv\", index_col=1)"
      ],
      "execution_count": null,
      "outputs": []
    },
    {
      "cell_type": "code",
      "metadata": {
        "id": "nFN71N8zrvcd",
        "outputId": "84a4c88c-438d-4f76-f8cb-f3198ab61b40",
        "colab": {
          "base_uri": "https://localhost:8080/",
          "height": 163
        }
      },
      "source": [
        "print(mov)"
      ],
      "execution_count": 1,
      "outputs": [
        {
          "output_type": "error",
          "ename": "NameError",
          "evalue": "ignored",
          "traceback": [
            "\u001b[0;31m---------------------------------------------------------------------------\u001b[0m",
            "\u001b[0;31mNameError\u001b[0m                                 Traceback (most recent call last)",
            "\u001b[0;32m<ipython-input-1-27b2b0ef800e>\u001b[0m in \u001b[0;36m<module>\u001b[0;34m()\u001b[0m\n\u001b[0;32m----> 1\u001b[0;31m \u001b[0mprint\u001b[0m\u001b[0;34m(\u001b[0m\u001b[0mmov\u001b[0m\u001b[0;34m)\u001b[0m\u001b[0;34m\u001b[0m\u001b[0;34m\u001b[0m\u001b[0m\n\u001b[0m",
            "\u001b[0;31mNameError\u001b[0m: name 'mov' is not defined"
          ]
        }
      ]
    },
    {
      "cell_type": "markdown",
      "metadata": {
        "id": "-4fbKgfm5Huz"
      },
      "source": [
        "##Data Preprocessing"
      ]
    },
    {
      "cell_type": "markdown",
      "metadata": {
        "id": "qliEHWpl5y4n"
      },
      "source": [
        "###Data Cleaning"
      ]
    },
    {
      "cell_type": "code",
      "metadata": {
        "id": "pNZKKcu5uUoX"
      },
      "source": [
        "mov = mov.iloc[:, 1:]"
      ],
      "execution_count": null,
      "outputs": []
    },
    {
      "cell_type": "code",
      "metadata": {
        "id": "pZbuFKkgvpgZ"
      },
      "source": [
        "mov.columns = ['title', 'year', 'age', 'imdb', 'rotten', 'netflix', 'hulu', 'prime', 'disney', 'type', 'directors', 'genres', 'countery', 'language', 'runtime']"
      ],
      "execution_count": null,
      "outputs": []
    },
    {
      "cell_type": "code",
      "metadata": {
        "id": "BLdItkz4wMGi"
      },
      "source": [
        "mov.loc[2, 'title']"
      ],
      "execution_count": null,
      "outputs": []
    }
  ]
}